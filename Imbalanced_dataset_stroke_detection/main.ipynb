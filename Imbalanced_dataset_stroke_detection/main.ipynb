{
 "cells": [
  {
   "cell_type": "markdown",
   "id": "aefdb921",
   "metadata": {},
   "source": [
    "Necessary libraries"
   ]
  },
  {
   "cell_type": "code",
   "execution_count": 66,
   "id": "041d975e",
   "metadata": {},
   "outputs": [],
   "source": [
    "import pandas as pd\n",
    "from sklearn.preprocessing import StandardScaler\n",
    "from sklearn.model_selection import train_test_split\n",
    "import tensorflow as tf\n",
    "from tensorflow.keras.layers import Dense,Input\n",
    "from tensorflow.keras.models import Sequential\n",
    "from tensorflow.keras.metrics import Precision, Recall\n",
    "from imblearn.over_sampling import SMOTE\n",
    "import numpy as np"
   ]
  },
  {
   "cell_type": "markdown",
   "id": "ba8aacde",
   "metadata": {},
   "source": [
    "Reading data & Cleaning"
   ]
  },
  {
   "cell_type": "code",
   "execution_count": 67,
   "id": "53bcd5a1",
   "metadata": {},
   "outputs": [],
   "source": [
    "df = pd.read_csv(\"dataset.csv\")"
   ]
  },
  {
   "cell_type": "code",
   "execution_count": 68,
   "id": "f3027e5f",
   "metadata": {},
   "outputs": [],
   "source": [
    "X_train = df.drop(columns=['id','stroke'])\n",
    "y_train = df['stroke']"
   ]
  },
  {
   "cell_type": "code",
   "execution_count": 69,
   "id": "5dfc2b7f",
   "metadata": {},
   "outputs": [
    {
     "name": "stdout",
     "output_type": "stream",
     "text": [
      "gender                   0\n",
      "age                      0\n",
      "hypertension             0\n",
      "heart_disease            0\n",
      "ever_married             0\n",
      "work_type                0\n",
      "Residence_type           0\n",
      "avg_glucose_level        0\n",
      "bmi                   1462\n",
      "smoking_status       13292\n",
      "dtype: int64\n",
      "0\n"
     ]
    }
   ],
   "source": [
    "print(X_train.isnull().sum())\n",
    "print(y_train.isnull().sum())"
   ]
  },
  {
   "cell_type": "code",
   "execution_count": 70,
   "id": "923d3d1e",
   "metadata": {},
   "outputs": [],
   "source": [
    "\n",
    "X_train.fillna({\n",
    "    'bmi': X_train['bmi'].mean(),\n",
    "    'smoking_status': X_train['smoking_status'].mode()[0]\n",
    "}, inplace=True)\n"
   ]
  },
  {
   "cell_type": "markdown",
   "id": "6bcec9e5",
   "metadata": {},
   "source": [
    "One hot encoding and fixing data types for the neural network"
   ]
  },
  {
   "cell_type": "code",
   "execution_count": 71,
   "id": "a7205a0e",
   "metadata": {},
   "outputs": [
    {
     "name": "stdout",
     "output_type": "stream",
     "text": [
      "age                               float64\n",
      "hypertension                        int64\n",
      "heart_disease                       int64\n",
      "avg_glucose_level                 float64\n",
      "bmi                               float64\n",
      "gender_Female                        bool\n",
      "gender_Male                          bool\n",
      "gender_Other                         bool\n",
      "ever_married_No                      bool\n",
      "ever_married_Yes                     bool\n",
      "work_type_Govt_job                   bool\n",
      "work_type_Never_worked               bool\n",
      "work_type_Private                    bool\n",
      "work_type_Self-employed              bool\n",
      "work_type_children                   bool\n",
      "Residence_type_Rural                 bool\n",
      "Residence_type_Urban                 bool\n",
      "smoking_status_formerly smoked       bool\n",
      "smoking_status_never smoked          bool\n",
      "smoking_status_smokes                bool\n",
      "dtype: object\n"
     ]
    }
   ],
   "source": [
    "\n",
    "X_train = pd.get_dummies(columns=['gender','ever_married','work_type','Residence_type','smoking_status'], data= X_train)\n",
    "print(X_train.dtypes)"
   ]
  },
  {
   "cell_type": "code",
   "execution_count": 72,
   "id": "820a4bb8",
   "metadata": {},
   "outputs": [
    {
     "name": "stdout",
     "output_type": "stream",
     "text": [
      "age                               float32\n",
      "hypertension                      float32\n",
      "heart_disease                     float32\n",
      "avg_glucose_level                 float32\n",
      "bmi                               float32\n",
      "gender_Female                     float32\n",
      "gender_Male                       float32\n",
      "gender_Other                      float32\n",
      "ever_married_No                   float32\n",
      "ever_married_Yes                  float32\n",
      "work_type_Govt_job                float32\n",
      "work_type_Never_worked            float32\n",
      "work_type_Private                 float32\n",
      "work_type_Self-employed           float32\n",
      "work_type_children                float32\n",
      "Residence_type_Rural              float32\n",
      "Residence_type_Urban              float32\n",
      "smoking_status_formerly smoked    float32\n",
      "smoking_status_never smoked       float32\n",
      "smoking_status_smokes             float32\n",
      "dtype: object\n"
     ]
    }
   ],
   "source": [
    "X_train = X_train.astype('float32')\n",
    "print(X_train.dtypes)"
   ]
  },
  {
   "cell_type": "markdown",
   "id": "6c1c88a3",
   "metadata": {},
   "source": [
    "Scaling and Splitting"
   ]
  },
  {
   "cell_type": "code",
   "execution_count": 73,
   "id": "c890724f",
   "metadata": {},
   "outputs": [],
   "source": [
    "\n",
    "scaler = StandardScaler()\n",
    "\n",
    "X_train,X_test = train_test_split(X_train, random_state= 32, test_size= 0.2)\n",
    "y_train,y_test = train_test_split(y_train,random_state=32,test_size=0.2)\n",
    "X_train[['age', 'avg_glucose_level', 'bmi']] = scaler.fit_transform(X_train[['age', 'avg_glucose_level', 'bmi']])\n",
    "X_test[['age', 'avg_glucose_level', 'bmi']] = scaler.transform(X_test[['age', 'avg_glucose_level', 'bmi']])\n"
   ]
  },
  {
   "cell_type": "markdown",
   "id": "4839d418",
   "metadata": {},
   "source": [
    "Converting to numpy arrays"
   ]
  },
  {
   "cell_type": "code",
   "execution_count": 74,
   "id": "fdba9ffa",
   "metadata": {},
   "outputs": [],
   "source": [
    "X_train = X_train.to_numpy()\n",
    "X_test = X_test.to_numpy()\n",
    "y_train = y_train.to_numpy()\n",
    "y_test = y_test.to_numpy()"
   ]
  },
  {
   "cell_type": "markdown",
   "id": "f3d6d2e3",
   "metadata": {},
   "source": [
    "Building the model"
   ]
  },
  {
   "cell_type": "code",
   "execution_count": 75,
   "id": "5d343612",
   "metadata": {},
   "outputs": [
    {
     "data": {
      "text/html": [
       "<pre style=\"white-space:pre;overflow-x:auto;line-height:normal;font-family:Menlo,'DejaVu Sans Mono',consolas,'Courier New',monospace\"><span style=\"font-weight: bold\">Model: \"sequential_6\"</span>\n",
       "</pre>\n"
      ],
      "text/plain": [
       "\u001b[1mModel: \"sequential_6\"\u001b[0m\n"
      ]
     },
     "metadata": {},
     "output_type": "display_data"
    },
    {
     "data": {
      "text/html": [
       "<pre style=\"white-space:pre;overflow-x:auto;line-height:normal;font-family:Menlo,'DejaVu Sans Mono',consolas,'Courier New',monospace\">┏━━━━━━━━━━━━━━━━━━━━━━━━━━━━━━━━━┳━━━━━━━━━━━━━━━━━━━━━━━━┳━━━━━━━━━━━━━━━┓\n",
       "┃<span style=\"font-weight: bold\"> Layer (type)                    </span>┃<span style=\"font-weight: bold\"> Output Shape           </span>┃<span style=\"font-weight: bold\">       Param # </span>┃\n",
       "┡━━━━━━━━━━━━━━━━━━━━━━━━━━━━━━━━━╇━━━━━━━━━━━━━━━━━━━━━━━━╇━━━━━━━━━━━━━━━┩\n",
       "│ dense_26 (<span style=\"color: #0087ff; text-decoration-color: #0087ff\">Dense</span>)                │ (<span style=\"color: #00d7ff; text-decoration-color: #00d7ff\">None</span>, <span style=\"color: #00af00; text-decoration-color: #00af00\">150</span>)            │         <span style=\"color: #00af00; text-decoration-color: #00af00\">3,150</span> │\n",
       "├─────────────────────────────────┼────────────────────────┼───────────────┤\n",
       "│ dense_27 (<span style=\"color: #0087ff; text-decoration-color: #0087ff\">Dense</span>)                │ (<span style=\"color: #00d7ff; text-decoration-color: #00d7ff\">None</span>, <span style=\"color: #00af00; text-decoration-color: #00af00\">100</span>)            │        <span style=\"color: #00af00; text-decoration-color: #00af00\">15,100</span> │\n",
       "├─────────────────────────────────┼────────────────────────┼───────────────┤\n",
       "│ dense_28 (<span style=\"color: #0087ff; text-decoration-color: #0087ff\">Dense</span>)                │ (<span style=\"color: #00d7ff; text-decoration-color: #00d7ff\">None</span>, <span style=\"color: #00af00; text-decoration-color: #00af00\">50</span>)             │         <span style=\"color: #00af00; text-decoration-color: #00af00\">5,050</span> │\n",
       "├─────────────────────────────────┼────────────────────────┼───────────────┤\n",
       "│ dense_29 (<span style=\"color: #0087ff; text-decoration-color: #0087ff\">Dense</span>)                │ (<span style=\"color: #00d7ff; text-decoration-color: #00d7ff\">None</span>, <span style=\"color: #00af00; text-decoration-color: #00af00\">1</span>)              │            <span style=\"color: #00af00; text-decoration-color: #00af00\">51</span> │\n",
       "└─────────────────────────────────┴────────────────────────┴───────────────┘\n",
       "</pre>\n"
      ],
      "text/plain": [
       "┏━━━━━━━━━━━━━━━━━━━━━━━━━━━━━━━━━┳━━━━━━━━━━━━━━━━━━━━━━━━┳━━━━━━━━━━━━━━━┓\n",
       "┃\u001b[1m \u001b[0m\u001b[1mLayer (type)                   \u001b[0m\u001b[1m \u001b[0m┃\u001b[1m \u001b[0m\u001b[1mOutput Shape          \u001b[0m\u001b[1m \u001b[0m┃\u001b[1m \u001b[0m\u001b[1m      Param #\u001b[0m\u001b[1m \u001b[0m┃\n",
       "┡━━━━━━━━━━━━━━━━━━━━━━━━━━━━━━━━━╇━━━━━━━━━━━━━━━━━━━━━━━━╇━━━━━━━━━━━━━━━┩\n",
       "│ dense_26 (\u001b[38;5;33mDense\u001b[0m)                │ (\u001b[38;5;45mNone\u001b[0m, \u001b[38;5;34m150\u001b[0m)            │         \u001b[38;5;34m3,150\u001b[0m │\n",
       "├─────────────────────────────────┼────────────────────────┼───────────────┤\n",
       "│ dense_27 (\u001b[38;5;33mDense\u001b[0m)                │ (\u001b[38;5;45mNone\u001b[0m, \u001b[38;5;34m100\u001b[0m)            │        \u001b[38;5;34m15,100\u001b[0m │\n",
       "├─────────────────────────────────┼────────────────────────┼───────────────┤\n",
       "│ dense_28 (\u001b[38;5;33mDense\u001b[0m)                │ (\u001b[38;5;45mNone\u001b[0m, \u001b[38;5;34m50\u001b[0m)             │         \u001b[38;5;34m5,050\u001b[0m │\n",
       "├─────────────────────────────────┼────────────────────────┼───────────────┤\n",
       "│ dense_29 (\u001b[38;5;33mDense\u001b[0m)                │ (\u001b[38;5;45mNone\u001b[0m, \u001b[38;5;34m1\u001b[0m)              │            \u001b[38;5;34m51\u001b[0m │\n",
       "└─────────────────────────────────┴────────────────────────┴───────────────┘\n"
      ]
     },
     "metadata": {},
     "output_type": "display_data"
    },
    {
     "data": {
      "text/html": [
       "<pre style=\"white-space:pre;overflow-x:auto;line-height:normal;font-family:Menlo,'DejaVu Sans Mono',consolas,'Courier New',monospace\"><span style=\"font-weight: bold\"> Total params: </span><span style=\"color: #00af00; text-decoration-color: #00af00\">23,351</span> (91.21 KB)\n",
       "</pre>\n"
      ],
      "text/plain": [
       "\u001b[1m Total params: \u001b[0m\u001b[38;5;34m23,351\u001b[0m (91.21 KB)\n"
      ]
     },
     "metadata": {},
     "output_type": "display_data"
    },
    {
     "data": {
      "text/html": [
       "<pre style=\"white-space:pre;overflow-x:auto;line-height:normal;font-family:Menlo,'DejaVu Sans Mono',consolas,'Courier New',monospace\"><span style=\"font-weight: bold\"> Trainable params: </span><span style=\"color: #00af00; text-decoration-color: #00af00\">23,351</span> (91.21 KB)\n",
       "</pre>\n"
      ],
      "text/plain": [
       "\u001b[1m Trainable params: \u001b[0m\u001b[38;5;34m23,351\u001b[0m (91.21 KB)\n"
      ]
     },
     "metadata": {},
     "output_type": "display_data"
    },
    {
     "data": {
      "text/html": [
       "<pre style=\"white-space:pre;overflow-x:auto;line-height:normal;font-family:Menlo,'DejaVu Sans Mono',consolas,'Courier New',monospace\"><span style=\"font-weight: bold\"> Non-trainable params: </span><span style=\"color: #00af00; text-decoration-color: #00af00\">0</span> (0.00 B)\n",
       "</pre>\n"
      ],
      "text/plain": [
       "\u001b[1m Non-trainable params: \u001b[0m\u001b[38;5;34m0\u001b[0m (0.00 B)\n"
      ]
     },
     "metadata": {},
     "output_type": "display_data"
    }
   ],
   "source": [
    "model = Sequential([\n",
    "    Input(shape = ((X_train.shape[1],))),\n",
    "    Dense(150, activation = 'relu'),\n",
    "    Dense(100, activation = 'relu'),\n",
    "    Dense(50, activation = 'relu'),\n",
    "    Dense(1, activation = 'sigmoid')\n",
    "])\n",
    "model.compile(loss = tf.keras.losses.BinaryCrossentropy(), optimizer = tf.keras.optimizers.Adam(0.001), metrics = ['accuracy', Precision(), Recall()])\n",
    "model.summary()\n"
   ]
  },
  {
   "cell_type": "markdown",
   "id": "bb1689d7",
   "metadata": {},
   "source": [
    "Training"
   ]
  },
  {
   "cell_type": "code",
   "execution_count": 76,
   "id": "4794d579",
   "metadata": {},
   "outputs": [
    {
     "name": "stdout",
     "output_type": "stream",
     "text": [
      "Epoch 1/10\n",
      "\u001b[1m543/543\u001b[0m \u001b[32m━━━━━━━━━━━━━━━━━━━━\u001b[0m\u001b[37m\u001b[0m \u001b[1m3s\u001b[0m 2ms/step - accuracy: 0.9692 - loss: 0.1269 - precision_3: 0.0151 - recall_3: 0.0094\n",
      "Epoch 2/10\n",
      "\u001b[1m543/543\u001b[0m \u001b[32m━━━━━━━━━━━━━━━━━━━━\u001b[0m\u001b[37m\u001b[0m \u001b[1m1s\u001b[0m 2ms/step - accuracy: 0.9820 - loss: 0.0752 - precision_3: 0.0000e+00 - recall_3: 0.0000e+00\n",
      "Epoch 3/10\n",
      "\u001b[1m543/543\u001b[0m \u001b[32m━━━━━━━━━━━━━━━━━━━━\u001b[0m\u001b[37m\u001b[0m \u001b[1m1s\u001b[0m 2ms/step - accuracy: 0.9818 - loss: 0.0760 - precision_3: 0.0000e+00 - recall_3: 0.0000e+00\n",
      "Epoch 4/10\n",
      "\u001b[1m543/543\u001b[0m \u001b[32m━━━━━━━━━━━━━━━━━━━━\u001b[0m\u001b[37m\u001b[0m \u001b[1m1s\u001b[0m 2ms/step - accuracy: 0.9813 - loss: 0.0763 - precision_3: 0.0000e+00 - recall_3: 0.0000e+00\n",
      "Epoch 5/10\n",
      "\u001b[1m543/543\u001b[0m \u001b[32m━━━━━━━━━━━━━━━━━━━━\u001b[0m\u001b[37m\u001b[0m \u001b[1m1s\u001b[0m 2ms/step - accuracy: 0.9812 - loss: 0.0763 - precision_3: 0.0000e+00 - recall_3: 0.0000e+00\n",
      "Epoch 6/10\n",
      "\u001b[1m543/543\u001b[0m \u001b[32m━━━━━━━━━━━━━━━━━━━━\u001b[0m\u001b[37m\u001b[0m \u001b[1m1s\u001b[0m 2ms/step - accuracy: 0.9827 - loss: 0.0718 - precision_3: 0.0000e+00 - recall_3: 0.0000e+00\n",
      "Epoch 7/10\n",
      "\u001b[1m543/543\u001b[0m \u001b[32m━━━━━━━━━━━━━━━━━━━━\u001b[0m\u001b[37m\u001b[0m \u001b[1m1s\u001b[0m 2ms/step - accuracy: 0.9824 - loss: 0.0733 - precision_3: 0.0000e+00 - recall_3: 0.0000e+00\n",
      "Epoch 8/10\n",
      "\u001b[1m543/543\u001b[0m \u001b[32m━━━━━━━━━━━━━━━━━━━━\u001b[0m\u001b[37m\u001b[0m \u001b[1m1s\u001b[0m 2ms/step - accuracy: 0.9826 - loss: 0.0713 - precision_3: 0.0000e+00 - recall_3: 0.0000e+00\n",
      "Epoch 9/10\n",
      "\u001b[1m543/543\u001b[0m \u001b[32m━━━━━━━━━━━━━━━━━━━━\u001b[0m\u001b[37m\u001b[0m \u001b[1m1s\u001b[0m 2ms/step - accuracy: 0.9825 - loss: 0.0709 - precision_3: 0.0000e+00 - recall_3: 0.0000e+00\n",
      "Epoch 10/10\n",
      "\u001b[1m543/543\u001b[0m \u001b[32m━━━━━━━━━━━━━━━━━━━━\u001b[0m\u001b[37m\u001b[0m \u001b[1m1s\u001b[0m 2ms/step - accuracy: 0.9820 - loss: 0.0724 - precision_3: 0.0000e+00 - recall_3: 0.0000e+00\n"
     ]
    },
    {
     "data": {
      "text/plain": [
       "<keras.src.callbacks.history.History at 0x1a589f06dd0>"
      ]
     },
     "execution_count": 76,
     "metadata": {},
     "output_type": "execute_result"
    }
   ],
   "source": [
    "model.fit(X_train, y_train, epochs = 10, batch_size = 64)"
   ]
  },
  {
   "cell_type": "markdown",
   "id": "fa5a09a3",
   "metadata": {},
   "source": [
    "Something is really really wrong here obviously... Honestly I knew this dataset is imbalanced from the start but I wanted to try xD"
   ]
  },
  {
   "cell_type": "code",
   "execution_count": 77,
   "id": "42f2bf23",
   "metadata": {},
   "outputs": [
    {
     "name": "stdout",
     "output_type": "stream",
     "text": [
      "True\n",
      "Positive Values: 625, Negative Values: 34095\n"
     ]
    }
   ],
   "source": [
    "def check_if_imbalanced(y_train):\n",
    "    cnt_1 = 0\n",
    "    cnt_0 = 0\n",
    "    for example in y_train:\n",
    "        if int(example) == 1:\n",
    "            cnt_1 += 1\n",
    "        else:\n",
    "            cnt_0 += 1\n",
    "    print((cnt_1 + cnt_0) == len(y_train))\n",
    "    print(f\"Positive Values: {cnt_1}, Negative Values: {cnt_0}\")\n",
    "\n",
    "check_if_imbalanced(y_train)\n"
   ]
  },
  {
   "cell_type": "markdown",
   "id": "470a4097",
   "metadata": {},
   "source": [
    "Lets solve this by SMOTE oversampling method"
   ]
  },
  {
   "cell_type": "code",
   "execution_count": 78,
   "id": "13c4d515",
   "metadata": {},
   "outputs": [
    {
     "name": "stdout",
     "output_type": "stream",
     "text": [
      "True\n",
      "Positive Values: 34095, Negative Values: 34095\n"
     ]
    }
   ],
   "source": [
    "sm = SMOTE(random_state=42, k_neighbors=3)\n",
    "X_train, y_train = sm.fit_resample(X_train, y_train)\n",
    "\n",
    "check_if_imbalanced(y_train)"
   ]
  },
  {
   "cell_type": "markdown",
   "id": "b3017ee6",
   "metadata": {},
   "source": [
    "Back to business"
   ]
  },
  {
   "cell_type": "code",
   "execution_count": 79,
   "id": "dc3d6119",
   "metadata": {},
   "outputs": [],
   "source": [
    "model = Sequential([\n",
    "    Input(shape = ((X_train.shape[1],))),\n",
    "    Dense(150, activation = 'relu'),\n",
    "    Dense(100, activation = 'relu'),\n",
    "    Dense(50, activation = 'relu'),\n",
    "    Dense(1, activation = 'sigmoid')\n",
    "])\n",
    "model.compile(loss = tf.keras.losses.BinaryCrossentropy(), optimizer = tf.keras.optimizers.Adam(0.001), metrics = ['accuracy', Precision(), Recall()])"
   ]
  },
  {
   "cell_type": "code",
   "execution_count": 80,
   "id": "3d01365c",
   "metadata": {},
   "outputs": [
    {
     "name": "stdout",
     "output_type": "stream",
     "text": [
      "Epoch 1/10\n",
      "\u001b[1m2131/2131\u001b[0m \u001b[32m━━━━━━━━━━━━━━━━━━━━\u001b[0m\u001b[37m\u001b[0m \u001b[1m5s\u001b[0m 2ms/step - accuracy: 0.8016 - loss: 0.4255 - precision_4: 0.7682 - recall_4: 0.8640\n",
      "Epoch 2/10\n",
      "\u001b[1m2131/2131\u001b[0m \u001b[32m━━━━━━━━━━━━━━━━━━━━\u001b[0m\u001b[37m\u001b[0m \u001b[1m4s\u001b[0m 2ms/step - accuracy: 0.8777 - loss: 0.2938 - precision_4: 0.8375 - recall_4: 0.9378\n",
      "Epoch 3/10\n",
      "\u001b[1m2131/2131\u001b[0m \u001b[32m━━━━━━━━━━━━━━━━━━━━\u001b[0m\u001b[37m\u001b[0m \u001b[1m4s\u001b[0m 2ms/step - accuracy: 0.9060 - loss: 0.2363 - precision_4: 0.8706 - recall_4: 0.9541\n",
      "Epoch 4/10\n",
      "\u001b[1m2131/2131\u001b[0m \u001b[32m━━━━━━━━━━━━━━━━━━━━\u001b[0m\u001b[37m\u001b[0m \u001b[1m4s\u001b[0m 2ms/step - accuracy: 0.9200 - loss: 0.2063 - precision_4: 0.8870 - recall_4: 0.9611\n",
      "Epoch 5/10\n",
      "\u001b[1m2131/2131\u001b[0m \u001b[32m━━━━━━━━━━━━━━━━━━━━\u001b[0m\u001b[37m\u001b[0m \u001b[1m4s\u001b[0m 2ms/step - accuracy: 0.9284 - loss: 0.1869 - precision_4: 0.8995 - recall_4: 0.9646\n",
      "Epoch 6/10\n",
      "\u001b[1m2131/2131\u001b[0m \u001b[32m━━━━━━━━━━━━━━━━━━━━\u001b[0m\u001b[37m\u001b[0m \u001b[1m4s\u001b[0m 2ms/step - accuracy: 0.9362 - loss: 0.1697 - precision_4: 0.9096 - recall_4: 0.9683\n",
      "Epoch 7/10\n",
      "\u001b[1m2131/2131\u001b[0m \u001b[32m━━━━━━━━━━━━━━━━━━━━\u001b[0m\u001b[37m\u001b[0m \u001b[1m4s\u001b[0m 2ms/step - accuracy: 0.9417 - loss: 0.1579 - precision_4: 0.9167 - recall_4: 0.9718\n",
      "Epoch 8/10\n",
      "\u001b[1m2131/2131\u001b[0m \u001b[32m━━━━━━━━━━━━━━━━━━━━\u001b[0m\u001b[37m\u001b[0m \u001b[1m4s\u001b[0m 2ms/step - accuracy: 0.9448 - loss: 0.1516 - precision_4: 0.9201 - recall_4: 0.9738\n",
      "Epoch 9/10\n",
      "\u001b[1m2131/2131\u001b[0m \u001b[32m━━━━━━━━━━━━━━━━━━━━\u001b[0m\u001b[37m\u001b[0m \u001b[1m4s\u001b[0m 2ms/step - accuracy: 0.9486 - loss: 0.1405 - precision_4: 0.9266 - recall_4: 0.9752\n",
      "Epoch 10/10\n",
      "\u001b[1m2131/2131\u001b[0m \u001b[32m━━━━━━━━━━━━━━━━━━━━\u001b[0m\u001b[37m\u001b[0m \u001b[1m4s\u001b[0m 2ms/step - accuracy: 0.9506 - loss: 0.1347 - precision_4: 0.9282 - recall_4: 0.9764\n"
     ]
    },
    {
     "data": {
      "text/plain": [
       "<keras.src.callbacks.history.History at 0x1a58a566290>"
      ]
     },
     "execution_count": 80,
     "metadata": {},
     "output_type": "execute_result"
    }
   ],
   "source": [
    "model.fit(X_train, y_train, epochs = 10, batch_size = 32)"
   ]
  },
  {
   "cell_type": "markdown",
   "id": "382d1e19",
   "metadata": {},
   "source": [
    "Recall is amazing. For prediction strokes recall is crucial."
   ]
  },
  {
   "cell_type": "code",
   "execution_count": 81,
   "id": "cbb44028",
   "metadata": {},
   "outputs": [
    {
     "data": {
      "text/plain": [
       "(array([0, 1], dtype=int64), array([8522,  158], dtype=int64))"
      ]
     },
     "execution_count": 81,
     "metadata": {},
     "output_type": "execute_result"
    }
   ],
   "source": [
    "np.unique(y_test, return_counts=True)\n"
   ]
  },
  {
   "cell_type": "code",
   "execution_count": 82,
   "id": "235d9bbe",
   "metadata": {},
   "outputs": [
    {
     "name": "stdout",
     "output_type": "stream",
     "text": [
      "\u001b[1m272/272\u001b[0m \u001b[32m━━━━━━━━━━━━━━━━━━━━\u001b[0m\u001b[37m\u001b[0m \u001b[1m1s\u001b[0m 1ms/step - accuracy: 0.8959 - loss: 0.3892 - precision_4: 0.0403 - recall_4: 0.1714     \n"
     ]
    },
    {
     "data": {
      "text/plain": [
       "[0.3463371694087982,\n",
       " 0.8987327218055725,\n",
       " 0.04539722576737404,\n",
       " 0.2278480976819992]"
      ]
     },
     "execution_count": 82,
     "metadata": {},
     "output_type": "execute_result"
    }
   ],
   "source": [
    "model.evaluate(X_test, y_test)"
   ]
  }
 ],
 "metadata": {
  "kernelspec": {
   "display_name": "Python 3",
   "language": "python",
   "name": "python3"
  },
  "language_info": {
   "codemirror_mode": {
    "name": "ipython",
    "version": 3
   },
   "file_extension": ".py",
   "mimetype": "text/x-python",
   "name": "python",
   "nbconvert_exporter": "python",
   "pygments_lexer": "ipython3",
   "version": "3.11.1"
  }
 },
 "nbformat": 4,
 "nbformat_minor": 5
}
