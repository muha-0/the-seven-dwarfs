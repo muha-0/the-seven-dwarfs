{
 "cells": [
  {
   "cell_type": "markdown",
   "id": "513be2e7",
   "metadata": {},
   "source": [
    "Libraries"
   ]
  },
  {
   "cell_type": "code",
   "execution_count": 25,
   "id": "37bd8a10",
   "metadata": {},
   "outputs": [],
   "source": [
    "import pandas as pd\n",
    "import numpy as np\n",
    "import tensorflow as tf\n",
    "from tensorflow.keras.models import Sequential\n",
    "from tensorflow.keras.layers import Dense"
   ]
  },
  {
   "cell_type": "markdown",
   "id": "b2cf0e6c",
   "metadata": {},
   "source": [
    "reading the data"
   ]
  },
  {
   "cell_type": "code",
   "execution_count": 26,
   "id": "03bc207a",
   "metadata": {},
   "outputs": [
    {
     "name": "stdout",
     "output_type": "stream",
     "text": [
      "0        0\n",
      "0.1      0\n",
      "0.2      0\n",
      "0.3      0\n",
      "0.4      0\n",
      "        ..\n",
      "0.491    0\n",
      "0.492    0\n",
      "0.493    0\n",
      "0.494    0\n",
      "0.495    0\n",
      "Length: 784, dtype: int64\n",
      "0        0\n",
      "0.1      0\n",
      "0.2      0\n",
      "0.3      0\n",
      "0.4      0\n",
      "        ..\n",
      "0.543    0\n",
      "0.544    0\n",
      "0.545    0\n",
      "0.546    0\n",
      "0.547    0\n",
      "Length: 784, dtype: int64\n",
      "0    0\n",
      "dtype: int64\n",
      "0    0\n",
      "dtype: int64\n"
     ]
    }
   ],
   "source": [
    "X_train = pd.read_csv(r\"E:\\my ai projects\\NN_binary_classification\\Arabic Handwritten Digits Dataset CSV\\train.csv\")\n",
    "y_train = pd.read_csv(r\"E:\\my ai projects\\NN_binary_classification\\Arabic Handwritten Digits Dataset CSV\\train_label.csv\")\n",
    "X_test = pd.read_csv(r\"E:\\my ai projects\\NN_binary_classification\\Arabic Handwritten Digits Dataset CSV\\test.csv\")\n",
    "y_test = pd.read_csv(r\"E:\\my ai projects\\NN_binary_classification\\Arabic Handwritten Digits Dataset CSV\\test_label.csv\")\n",
    "print(X_train.isnull().sum())\n",
    "print(X_test.isnull().sum())\n",
    "print(y_train.isnull().sum())\n",
    "print(y_test.isnull().sum())"
   ]
  },
  {
   "cell_type": "markdown",
   "id": "cf6c7c76",
   "metadata": {},
   "source": [
    "Convert to numpy and normalize."
   ]
  },
  {
   "cell_type": "code",
   "execution_count": 27,
   "id": "6adb4c6d",
   "metadata": {},
   "outputs": [
    {
     "name": "stdout",
     "output_type": "stream",
     "text": [
      "(59999, 784)\n",
      "(59999,)\n"
     ]
    }
   ],
   "source": [
    "X_train = X_train.to_numpy()\n",
    "print(X_train.shape)\n",
    "y_train = y_train.to_numpy().flatten()\n",
    "print(y_train.shape)\n",
    "X_test = X_test.to_numpy()\n",
    "y_test = y_test.to_numpy().flatten()\n",
    "\n",
    "X_train = X_train / 255.0\n",
    "X_test = X_test / 255.0"
   ]
  },
  {
   "cell_type": "markdown",
   "id": "6ff997d9",
   "metadata": {},
   "source": [
    "Training"
   ]
  },
  {
   "cell_type": "code",
   "execution_count": 37,
   "id": "08b05a88",
   "metadata": {},
   "outputs": [
    {
     "name": "stdout",
     "output_type": "stream",
     "text": [
      "Epoch 1/5\n",
      "\u001b[1m1875/1875\u001b[0m \u001b[32m━━━━━━━━━━━━━━━━━━━━\u001b[0m\u001b[37m\u001b[0m \u001b[1m5s\u001b[0m 2ms/step - accuracy: 0.9187 - loss: 0.3064\n",
      "Epoch 2/5\n",
      "\u001b[1m1875/1875\u001b[0m \u001b[32m━━━━━━━━━━━━━━━━━━━━\u001b[0m\u001b[37m\u001b[0m \u001b[1m4s\u001b[0m 2ms/step - accuracy: 0.9841 - loss: 0.0560\n",
      "Epoch 3/5\n",
      "\u001b[1m1875/1875\u001b[0m \u001b[32m━━━━━━━━━━━━━━━━━━━━\u001b[0m\u001b[37m\u001b[0m \u001b[1m4s\u001b[0m 2ms/step - accuracy: 0.9900 - loss: 0.0343\n",
      "Epoch 4/5\n",
      "\u001b[1m1875/1875\u001b[0m \u001b[32m━━━━━━━━━━━━━━━━━━━━\u001b[0m\u001b[37m\u001b[0m \u001b[1m4s\u001b[0m 2ms/step - accuracy: 0.9915 - loss: 0.0277\n",
      "Epoch 5/5\n",
      "\u001b[1m1875/1875\u001b[0m \u001b[32m━━━━━━━━━━━━━━━━━━━━\u001b[0m\u001b[37m\u001b[0m \u001b[1m4s\u001b[0m 2ms/step - accuracy: 0.9941 - loss: 0.0194\n"
     ]
    },
    {
     "data": {
      "text/plain": [
       "<keras.src.callbacks.history.History at 0x1f56d72d350>"
      ]
     },
     "execution_count": 37,
     "metadata": {},
     "output_type": "execute_result"
    }
   ],
   "source": [
    "model = Sequential([\n",
    "    tf.keras.Input(shape=(784,)),    \n",
    "    Dense(units = 100, activation = 'relu'),\n",
    "    Dense(units = 50, activation = 'relu'),\n",
    "    Dense(units = 10, activation = 'linear')\n",
    "])\n",
    "\n",
    "model.compile(loss = tf.keras.losses.SparseCategoricalCrossentropy(from_logits = True), optimizer = tf.keras.optimizers.Adam(0.001), metrics = ['accuracy'])\n",
    "model.fit(X_train,y_train, epochs = 5)\n"
   ]
  },
  {
   "cell_type": "markdown",
   "id": "560a8b6e",
   "metadata": {},
   "source": [
    "Results are amazing "
   ]
  },
  {
   "cell_type": "code",
   "execution_count": 38,
   "id": "e519da01",
   "metadata": {},
   "outputs": [
    {
     "name": "stdout",
     "output_type": "stream",
     "text": [
      "\u001b[1m313/313\u001b[0m \u001b[32m━━━━━━━━━━━━━━━━━━━━\u001b[0m\u001b[37m\u001b[0m \u001b[1m1s\u001b[0m 1ms/step - accuracy: 0.9856 - loss: 0.0576\n",
      "loss: 0.07175028324127197, accuracy: 0.9821982383728027\n"
     ]
    }
   ],
   "source": [
    "loss,acc = model.evaluate(X_test, y_test)\n",
    "print(f\"loss: {loss}, accuracy: {acc}\")"
   ]
  },
  {
   "cell_type": "markdown",
   "id": "f0db05fd",
   "metadata": {},
   "source": [
    "Converting to probabilities (softmax)"
   ]
  },
  {
   "cell_type": "code",
   "execution_count": 51,
   "id": "d34742e2",
   "metadata": {},
   "outputs": [
    {
     "name": "stdout",
     "output_type": "stream",
     "text": [
      "\u001b[1m1/1\u001b[0m \u001b[32m━━━━━━━━━━━━━━━━━━━━\u001b[0m\u001b[37m\u001b[0m \u001b[1m0s\u001b[0m 43ms/step\n",
      "[1]\n",
      "1\n"
     ]
    }
   ],
   "source": [
    "\n",
    "model_prediction = model.predict(X_test[0].reshape(1,-1))\n",
    "prediction = tf.nn.softmax(model_prediction)\n",
    "\n",
    "print(np.argmax(prediction, axis = 1))\n",
    "print(y_test[0])"
   ]
  },
  {
   "cell_type": "markdown",
   "id": "1b50617f",
   "metadata": {},
   "source": [
    "Without CNN and we got amazing accuracy so yea this was fun"
   ]
  }
 ],
 "metadata": {
  "kernelspec": {
   "display_name": "Python 3",
   "language": "python",
   "name": "python3"
  },
  "language_info": {
   "codemirror_mode": {
    "name": "ipython",
    "version": 3
   },
   "file_extension": ".py",
   "mimetype": "text/x-python",
   "name": "python",
   "nbconvert_exporter": "python",
   "pygments_lexer": "ipython3",
   "version": "3.11.1"
  }
 },
 "nbformat": 4,
 "nbformat_minor": 5
}
