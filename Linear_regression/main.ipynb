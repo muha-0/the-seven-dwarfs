{
 "cells": [
  {
   "cell_type": "code",
   "execution_count": 48,
   "id": "95afeb0b",
   "metadata": {},
   "outputs": [],
   "source": [
    "import pandas as pd\n",
    "import numpy as np"
   ]
  },
  {
   "cell_type": "markdown",
   "id": "2e7bcf81",
   "metadata": {},
   "source": [
    "Just reading the data bro"
   ]
  },
  {
   "cell_type": "code",
   "execution_count": 49,
   "id": "0837f135",
   "metadata": {},
   "outputs": [],
   "source": [
    "data = pd.read_csv(\"Housing.csv\")"
   ]
  },
  {
   "cell_type": "code",
   "execution_count": 50,
   "id": "86fe899e",
   "metadata": {},
   "outputs": [
    {
     "name": "stdout",
     "output_type": "stream",
     "text": [
      "price               0\n",
      "area                0\n",
      "bedrooms            0\n",
      "bathrooms           0\n",
      "stories             0\n",
      "mainroad            0\n",
      "guestroom           0\n",
      "basement            0\n",
      "hotwaterheating     0\n",
      "airconditioning     0\n",
      "parking             0\n",
      "prefarea            0\n",
      "furnishingstatus    0\n",
      "dtype: int64\n"
     ]
    }
   ],
   "source": [
    "print(data.isnull().sum())"
   ]
  },
  {
   "cell_type": "code",
   "execution_count": 51,
   "id": "4fa0003e",
   "metadata": {},
   "outputs": [
    {
     "name": "stdout",
     "output_type": "stream",
     "text": [
      "price                int64\n",
      "area                 int64\n",
      "bedrooms             int64\n",
      "bathrooms            int64\n",
      "stories              int64\n",
      "mainroad            object\n",
      "guestroom           object\n",
      "basement            object\n",
      "hotwaterheating     object\n",
      "airconditioning     object\n",
      "parking              int64\n",
      "prefarea            object\n",
      "furnishingstatus    object\n",
      "dtype: object\n"
     ]
    }
   ],
   "source": [
    "print(data.dtypes)\n"
   ]
  },
  {
   "cell_type": "markdown",
   "id": "bc0245a7",
   "metadata": {},
   "source": [
    "Setting the train and test data\n",
    "Don't forget. You don't ever do .fit on the test data. This is leaking info"
   ]
  },
  {
   "cell_type": "markdown",
   "id": "defbcb8e",
   "metadata": {},
   "source": [
    "you could use train_test_split from scikit learn directly\n",
    "X_train, X_test, y_train, y_test = train_test_split(X, y, test_size=1/8, random_state=42)"
   ]
  },
  {
   "cell_type": "code",
   "execution_count": 52,
   "id": "032ea454",
   "metadata": {},
   "outputs": [],
   "source": [
    "X_columns = ['area', 'bedrooms', 'bathrooms']\n",
    "y_columns = ['price']\n",
    "start = int(len(data)*(7/8))\n",
    "data_test = data[start:len(data)]\n",
    "data = data[0:start]\n",
    "\n",
    "X_test = data_test[X_columns].to_numpy()\n",
    "y_test = data_test[y_columns].to_numpy()\n",
    "X_train = data[X_columns].to_numpy()\n",
    "y_train = data[y_columns].to_numpy()"
   ]
  },
  {
   "cell_type": "markdown",
   "id": "1ec4f47e",
   "metadata": {},
   "source": [
    "Normalizing the data bro. "
   ]
  },
  {
   "cell_type": "code",
   "execution_count": 53,
   "id": "f8a96180",
   "metadata": {},
   "outputs": [],
   "source": [
    "from sklearn.preprocessing import StandardScaler\n",
    "scaler = StandardScaler()\n",
    "scaler.fit(X_train)\n",
    "X_train_scaled = scaler.transform(X_train)\n",
    "X_test_scaled = scaler.transform(X_test)"
   ]
  },
  {
   "cell_type": "markdown",
   "id": "3694261b",
   "metadata": {},
   "source": [
    "Training/Predicting"
   ]
  },
  {
   "cell_type": "code",
   "execution_count": 55,
   "id": "07686b3f",
   "metadata": {},
   "outputs": [],
   "source": [
    "from sklearn.linear_model import LinearRegression\n",
    "from sklearn.metrics import mean_squared_error\n",
    "\n",
    "model = LinearRegression()\n",
    "\n",
    "model.fit(X_train_scaled, y_train)\n",
    "\n",
    "y_predict = model.predict(X_test_scaled)\n",
    "y_predict_with_mean = np.full_like(y_test, fill_value= y_test.mean())\n",
    "\n",
    "MSE = mean_squared_error(y_test,y_predict)\n",
    "RMSE = np.sqrt(MSE)\n",
    "\n",
    "RMSE_with_mean = np.sqrt(mean_squared_error(y_test,y_predict_with_mean))\n",
    "\n"
   ]
  }
 ],
 "metadata": {
  "kernelspec": {
   "display_name": "Python 3",
   "language": "python",
   "name": "python3"
  },
  "language_info": {
   "codemirror_mode": {
    "name": "ipython",
    "version": 3
   },
   "file_extension": ".py",
   "mimetype": "text/x-python",
   "name": "python",
   "nbconvert_exporter": "python",
   "pygments_lexer": "ipython3",
   "version": "3.11.1"
  }
 },
 "nbformat": 4,
 "nbformat_minor": 5
}
